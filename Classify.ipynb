{
 "cells": [
  {
   "cell_type": "markdown",
   "metadata": {},
   "source": [
    "# Clean data for bag of words"
   ]
  },
  {
   "cell_type": "code",
   "execution_count": 7,
   "metadata": {},
   "outputs": [],
   "source": [
    "import csv\n",
    "import json\n",
    "import string\n",
    "import re\n",
    "from collections import Counter\n",
    "from functools import reduce\n",
    "\n",
    "from IPython.display import clear_output\n",
    "import matplotlib.pyplot as plt\n",
    "import numpy as np\n",
    "import pandas as pd\n",
    "import sklearn\n",
    "from pandas_ml import ConfusionMatrix\n",
    "from sklearn.calibration import CalibratedClassifierCV\n",
    "from sklearn.model_selection import train_test_split\n",
    "from sklearn.feature_selection import VarianceThreshold\n",
    "from sklearn.feature_extraction.text import CountVectorizer\n",
    "from sklearn.feature_extraction import stop_words\n",
    "from sklearn.naive_bayes import GaussianNB\n",
    "from sklearn.metrics import confusion_matrix\n",
    "from sklearn.metrics import accuracy_score as acc\n",
    "from sklearn import svm\n",
    "from sklearn.tree import DecisionTreeClassifier\n",
    "from sklearn.ensemble import AdaBoostClassifier, RandomForestClassifier\n",
    "from sklearn.neural_network import MLPClassifier\n",
    "\n",
    "%matplotlib inline"
   ]
  },
  {
   "cell_type": "code",
   "execution_count": 2,
   "metadata": {},
   "outputs": [],
   "source": [
    "[redacted]"
   ]
  },
  {
   "cell_type": "code",
   "execution_count": 18,
   "metadata": {},
   "outputs": [],
   "source": [
    "[redacted]"
   ]
  },
  {
   "cell_type": "code",
   "execution_count": 5,
   "metadata": {},
   "outputs": [],
   "source": [
    "raw_data = get_raw_data()"
   ]
  },
  {
   "cell_type": "code",
   "execution_count": null,
   "metadata": {},
   "outputs": [],
   "source": [
    "X, y = get_X_y(raw_data)"
   ]
  },
  {
   "cell_type": "code",
   "execution_count": 19,
   "metadata": {},
   "outputs": [
    {
     "name": "stdout",
     "output_type": "stream",
     "text": [
      "                                        0     1      2\n",
      "0                      Malicious Activity  3901  31.0%\n",
      "1                  Trademark Infringement  5409  43.0%\n",
      "2                      Child Exploitation    94   0.7%\n",
      "3                                    SPAM  2300  18.3%\n",
      "4                       Malicious Content   806   6.4%\n",
      "5                         ISIS Propaganda    25   0.2%\n",
      "6         Using Un-Allocated IP Addresses    11   0.1%\n",
      "7  Vulnerability notification for domains    23   0.2%\n"
     ]
    }
   ],
   "source": [
    "tabulate_data(raw_data)"
   ]
  },
  {
   "cell_type": "code",
   "execution_count": 7,
   "metadata": {},
   "outputs": [
    {
     "ename": "NameError",
     "evalue": "name 'X' is not defined",
     "output_type": "error",
     "traceback": [
      "\u001b[0;31m---------------------------------------------------------------------------\u001b[0m",
      "\u001b[0;31mNameError\u001b[0m                                 Traceback (most recent call last)",
      "\u001b[0;32m<ipython-input-7-ef2d71ed2284>\u001b[0m in \u001b[0;36m<module>\u001b[0;34m()\u001b[0m\n\u001b[0;32m----> 1\u001b[0;31m \u001b[0mX_train\u001b[0m\u001b[0;34m,\u001b[0m \u001b[0mX_test\u001b[0m\u001b[0;34m,\u001b[0m \u001b[0my_train\u001b[0m\u001b[0;34m,\u001b[0m \u001b[0my_test\u001b[0m \u001b[0;34m=\u001b[0m \u001b[0mtrain_test_split\u001b[0m\u001b[0;34m(\u001b[0m\u001b[0mX\u001b[0m\u001b[0;34m,\u001b[0m \u001b[0my\u001b[0m\u001b[0;34m,\u001b[0m \u001b[0mtest_size\u001b[0m\u001b[0;34m=\u001b[0m\u001b[0;36m.4\u001b[0m\u001b[0;34m,\u001b[0m \u001b[0mrandom_state\u001b[0m\u001b[0;34m=\u001b[0m\u001b[0;36m1\u001b[0m\u001b[0;34m)\u001b[0m\u001b[0;34m\u001b[0m\u001b[0m\n\u001b[0m\u001b[1;32m      2\u001b[0m \u001b[0;32mdel\u001b[0m \u001b[0mraw_data\u001b[0m\u001b[0;34m\u001b[0m\u001b[0m\n\u001b[1;32m      3\u001b[0m \u001b[0;32mdel\u001b[0m \u001b[0mX\u001b[0m\u001b[0;34m,\u001b[0m\u001b[0;34m\u001b[0m\u001b[0m\n\u001b[1;32m      4\u001b[0m \u001b[0;32mdel\u001b[0m \u001b[0my\u001b[0m\u001b[0;34m\u001b[0m\u001b[0m\n",
      "\u001b[0;31mNameError\u001b[0m: name 'X' is not defined"
     ]
    }
   ],
   "source": [
    "X_train, X_test, y_train, y_test = train_test_split(X, y, test_size=.4, random_state=1)\n",
    "del raw_data\n",
    "del X, \n",
    "del y"
   ]
  },
  {
   "cell_type": "markdown",
   "metadata": {},
   "source": [
    "# Find Features length + best initial algos"
   ]
  },
  {
   "cell_type": "code",
   "execution_count": 6,
   "metadata": {},
   "outputs": [],
   "source": [
    "def run_spread(method, raw_data=None, max_=1000, min_=0, n=-100):\n",
    "    x_axis = []\n",
    "    y_axis = []\n",
    "    conf_matrix = []\n",
    "    for i in range(max_, min_, n):\n",
    "        print(i)\n",
    "        x_axis.append(i)\n",
    "        print(\"GETTING RAW\")\n",
    "        if not raw_data:\n",
    "            raw_data = get_raw_data()\n",
    "        print(\"GETTING X y\")\n",
    "        X, y, labels = get_X_y(raw_data, max_features=i)\n",
    "        print(\"SPLITTING\")\n",
    "        X_train, X_test, y_train, y_test = train_test_split(X, y, test_size=.4, random_state=1)\n",
    "        del X\n",
    "        del y\n",
    "        print(\"PREDICTING\")\n",
    "        print(X_train.shape)\n",
    "        y_pred = method(X_train, y_train, X_test)\n",
    "        y_axis.append(acc(y_test, y_pred))\n",
    "        conf_matrix.append(ConfusionMatrix(y_test, y_pred))\n",
    "    clear_output()\n",
    "    return x_axis, y_axis, conf_matrix, labels"
   ]
  },
  {
   "cell_type": "markdown",
   "metadata": {},
   "source": [
    "### Gaussian Naive Bayes\n",
    "\n",
    "This does not make a ton of sense, since the distribution of words is exponetial, not gaussian."
   ]
  },
  {
   "cell_type": "code",
   "execution_count": 17,
   "metadata": {},
   "outputs": [],
   "source": [
    "def gaussianNB(X_train, y_train, X_test):\n",
    "    gnb = GaussianNB()\n",
    "    with sklearn.config_context(assume_finite=True):\n",
    "        return gnb.fit(X_train, y_train).predict(X_test)"
   ]
  },
  {
   "cell_type": "code",
   "execution_count": 18,
   "metadata": {},
   "outputs": [
    {
     "data": {
      "text/plain": [
       "[<matplotlib.lines.Line2D at 0x11576e470>]"
      ]
     },
     "execution_count": 18,
     "metadata": {},
     "output_type": "execute_result"
    },
    {
     "data": {
      "image/png": "[encoded data removed]",
      "text/plain": [
       "<matplotlib.figure.Figure at 0x10e878f28>"
      ]
     },
     "metadata": {},
     "output_type": "display_data"
    }
   ],
   "source": [
    "x, y, matrix, labels = run_spread(gaussianNB, raw_data)\n",
    "plt.plot(x, y)"
   ]
  },
  {
   "cell_type": "markdown",
   "metadata": {},
   "source": [
    "## SVC with RBF & polynomial kernals\n",
    "\n",
    "Because of the small amount of key words for identifying we opt for the polynomical kernal."
   ]
  },
  {
   "cell_type": "code",
   "execution_count": 19,
   "metadata": {},
   "outputs": [],
   "source": [
    "def svc_rbf(X_train, y_train, X_test):\n",
    "    clf = svm.SVC(kernel='rbf')  \n",
    "    with sklearn.config_context(assume_finite=True):\n",
    "        return clf.fit(X_train, y_train).predict(X_test)"
   ]
  },
  {
   "cell_type": "code",
   "execution_count": 20,
   "metadata": {},
   "outputs": [
    {
     "data": {
      "text/plain": [
       "[<matplotlib.lines.Line2D at 0x11566fdd8>]"
      ]
     },
     "execution_count": 20,
     "metadata": {},
     "output_type": "execute_result"
    },
    {
     "data": {
      "image/png": "[encoded data removed]",
      "text/plain": [
       "<matplotlib.figure.Figure at 0x11576eb00>"
      ]
     },
     "metadata": {},
     "output_type": "display_data"
    }
   ],
   "source": [
    "x, y, matrix, labels = run_spread(svc_rbf, raw_data)\n",
    "plt.plot(x, y)"
   ]
  },
  {
   "cell_type": "code",
   "execution_count": 21,
   "metadata": {},
   "outputs": [],
   "source": [
    "def svc_poly(X_train, y_train, X_test):\n",
    "    clf = svm.SVC(kernel='poly')  \n",
    "    with sklearn.config_context(assume_finite=True):\n",
    "        return clf.fit(X_train, y_train).predict(X_test)"
   ]
  },
  {
   "cell_type": "code",
   "execution_count": 22,
   "metadata": {},
   "outputs": [
    {
     "data": {
      "text/plain": [
       "[<matplotlib.lines.Line2D at 0x10cfa4c50>]"
      ]
     },
     "execution_count": 22,
     "metadata": {},
     "output_type": "execute_result"
    },
    {
     "data": {
      "image/png": "[encoded data removed]",
      "text/plain": [
       "<matplotlib.figure.Figure at 0x10cf02470>"
      ]
     },
     "metadata": {},
     "output_type": "display_data"
    }
   ],
   "source": [
    "x, y, matrix, labels = run_spread(svc_poly, raw_data)\n",
    "plt.plot(x, y)"
   ]
  },
  {
   "cell_type": "markdown",
   "metadata": {},
   "source": [
    "## Decision trees"
   ]
  },
  {
   "cell_type": "code",
   "execution_count": 30,
   "metadata": {},
   "outputs": [],
   "source": [
    "def tree(X_train, y_train, X_test):\n",
    "    clf = DecisionTreeClassifier() \n",
    "    with sklearn.config_context(assume_finite=True):\n",
    "        return clf.fit(X_train, y_train).predict(X_test)\n",
    " \n",
    "\n",
    "def forest(X_train, y_train, X_test):\n",
    "    clf =  RandomForestClassifier() \n",
    "    with sklearn.config_context(assume_finite=True):\n",
    "        return clf.fit(X_train, y_train).predict(X_test)"
   ]
  },
  {
   "cell_type": "code",
   "execution_count": 27,
   "metadata": {},
   "outputs": [
    {
     "data": {
      "text/plain": [
       "[<matplotlib.lines.Line2D at 0x10e883c88>]"
      ]
     },
     "execution_count": 27,
     "metadata": {},
     "output_type": "execute_result"
    },
    {
     "data": {
      "image/png": "[encoded data removed]",
      "text/plain": [
       "<matplotlib.figure.Figure at 0x11cc7acc0>"
      ]
     },
     "metadata": {},
     "output_type": "display_data"
    }
   ],
   "source": [
    "x, y, matrix, labels = run_spread(tree, raw_data)\n",
    "plt.plot(x, y)"
   ]
  },
  {
   "cell_type": "code",
   "execution_count": 31,
   "metadata": {},
   "outputs": [
    {
     "data": {
      "text/plain": [
       "[<matplotlib.lines.Line2D at 0x123454208>]"
      ]
     },
     "execution_count": 31,
     "metadata": {},
     "output_type": "execute_result"
    },
    {
     "data": {
      "image/png": "[encoded data removed]",
      "text/plain": [
       "<matplotlib.figure.Figure at 0x10ec7a5c0>"
      ]
     },
     "metadata": {},
     "output_type": "display_data"
    }
   ],
   "source": [
    "x, y, matrix, labels = run_spread(forest, raw_data)\n",
    "plt.plot(x, y)"
   ]
  },
  {
   "cell_type": "code",
   "execution_count": 33,
   "metadata": {},
   "outputs": [
    {
     "data": {
      "text/plain": [
       "[0.93411479385610352,\n",
       " 0.93101589867960122,\n",
       " 0.93128536782538396,\n",
       " 0.92939908380490432,\n",
       " 0.9289948800862301,\n",
       " 0.93438426300188626,\n",
       " 0.93047696038803562,\n",
       " 0.9253570466181622,\n",
       " 0.90406898410132042,\n",
       " 0.89544597143627058]"
      ]
     },
     "execution_count": 33,
     "metadata": {},
     "output_type": "execute_result"
    }
   ],
   "source": [
    "y"
   ]
  },
  {
   "cell_type": "markdown",
   "metadata": {},
   "source": [
    "## Adaboost"
   ]
  },
  {
   "cell_type": "code",
   "execution_count": 34,
   "metadata": {},
   "outputs": [],
   "source": [
    "def adaboost(X_train, y_train, X_test):\n",
    "    clf = AdaBoostClassifier(n_estimators=100) \n",
    "    with sklearn.config_context(assume_finite=True):\n",
    "        return clf.fit(X_train, y_train).predict(X_test)"
   ]
  },
  {
   "cell_type": "code",
   "execution_count": 35,
   "metadata": {},
   "outputs": [
    {
     "name": "stdout",
     "output_type": "stream",
     "text": [
      "([1000, 900, 800, 700, 600, 500, 400, 300, 200, 100], [0.56925357046618164, 0.56925357046618164, 0.54271085960657506, 0.53691727297224467, 0.74966316356777152, 0.61196443007275669, 0.58232282403664781, 0.70061977903530048, 0.61641067097817304, 0.51751549447588252], [Predicted               Child Exploitation  Malicious Activity  \\\n",
      "Actual                                                           \n",
      "Child Exploitation                      21                   0   \n",
      "Malicious Activity                       0                  69   \n",
      "Malicious Content                        0                   1   \n",
      "Other                                    3                 154   \n",
      "SPAM                                    10                  14   \n",
      "Trademark Infringement                   1                   0   \n",
      "__all__                                 35                 238   \n",
      "\n",
      "Predicted               Malicious Content  Other  SPAM  \\\n",
      "Actual                                                   \n",
      "Child Exploitation                      2     13     0   \n",
      "Malicious Activity                     13    197     5   \n",
      "Malicious Content                     520   1093    13   \n",
      "Other                                  58   2018    89   \n",
      "SPAM                                    5    220   639   \n",
      "Trademark Infringement                  3   1185     2   \n",
      "__all__                               601   4726   748   \n",
      "\n",
      "Predicted               Trademark Infringement  __all__  \n",
      "Actual                                                   \n",
      "Child Exploitation                           9       45  \n",
      "Malicious Activity                           0      284  \n",
      "Malicious Content                           12     1639  \n",
      "Other                                       94     2416  \n",
      "SPAM                                         1      889  \n",
      "Trademark Infringement                     958     2149  \n",
      "__all__                                   1074     7422  , Predicted               Child Exploitation  Malicious Activity  \\\n",
      "Actual                                                           \n",
      "Child Exploitation                      21                   0   \n",
      "Malicious Activity                       0                  69   \n",
      "Malicious Content                        0                   1   \n",
      "Other                                    3                 154   \n",
      "SPAM                                    10                  14   \n",
      "Trademark Infringement                   1                   0   \n",
      "__all__                                 35                 238   \n",
      "\n",
      "Predicted               Malicious Content  Other  SPAM  \\\n",
      "Actual                                                   \n",
      "Child Exploitation                      2     13     0   \n",
      "Malicious Activity                     13    197     5   \n",
      "Malicious Content                     520   1093    13   \n",
      "Other                                  58   2018    89   \n",
      "SPAM                                    5    220   639   \n",
      "Trademark Infringement                  3   1185     2   \n",
      "__all__                               601   4726   748   \n",
      "\n",
      "Predicted               Trademark Infringement  __all__  \n",
      "Actual                                                   \n",
      "Child Exploitation                           9       45  \n",
      "Malicious Activity                           0      284  \n",
      "Malicious Content                           12     1639  \n",
      "Other                                       94     2416  \n",
      "SPAM                                         1      889  \n",
      "Trademark Infringement                     958     2149  \n",
      "__all__                                   1074     7422  , Predicted               Child Exploitation  Malicious Activity  \\\n",
      "Actual                                                           \n",
      "Child Exploitation                      20                   0   \n",
      "Malicious Activity                       0                  21   \n",
      "Malicious Content                        2                   1   \n",
      "Other                                  155                 101   \n",
      "SPAM                                     4                   2   \n",
      "Trademark Infringement                   6                   0   \n",
      "__all__                                187                 125   \n",
      "\n",
      "Predicted               Malicious Content  Other  SPAM  \\\n",
      "Actual                                                   \n",
      "Child Exploitation                      1     14     0   \n",
      "Malicious Activity                     22    232     9   \n",
      "Malicious Content                     637    983     9   \n",
      "Other                                 170   1844    79   \n",
      "SPAM                                    6    256   620   \n",
      "Trademark Infringement                  0   1257     0   \n",
      "__all__                               836   4586   717   \n",
      "\n",
      "Predicted               Trademark Infringement  __all__  \n",
      "Actual                                                   \n",
      "Child Exploitation                          10       45  \n",
      "Malicious Activity                           0      284  \n",
      "Malicious Content                            7     1639  \n",
      "Other                                       67     2416  \n",
      "SPAM                                         1      889  \n",
      "Trademark Infringement                     886     2149  \n",
      "__all__                                    971     7422  , Predicted               Child Exploitation  Malicious Activity  \\\n",
      "Actual                                                           \n",
      "Child Exploitation                      22                   0   \n",
      "Malicious Activity                       0                   8   \n",
      "Malicious Content                        0                   0   \n",
      "Other                                   91                  48   \n",
      "SPAM                                    12                   0   \n",
      "Trademark Infringement                   0                   0   \n",
      "__all__                                125                  56   \n",
      "\n",
      "Predicted               Malicious Content  Other  SPAM  \\\n",
      "Actual                                                   \n",
      "Child Exploitation                      2     20     1   \n",
      "Malicious Activity                     16    246    14   \n",
      "Malicious Content                     560   1062    14   \n",
      "Other                                 165   1903   121   \n",
      "SPAM                                    5    169   702   \n",
      "Trademark Infringement                  1   1358     0   \n",
      "__all__                               749   4758   852   \n",
      "\n",
      "Predicted               Trademark Infringement  __all__  \n",
      "Actual                                                   \n",
      "Child Exploitation                           0       45  \n",
      "Malicious Activity                           0      284  \n",
      "Malicious Content                            3     1639  \n",
      "Other                                       88     2416  \n",
      "SPAM                                         1      889  \n",
      "Trademark Infringement                     790     2149  \n",
      "__all__                                    882     7422  , Predicted               Child Exploitation  Malicious Activity  \\\n",
      "Actual                                                           \n",
      "Child Exploitation                      19                   0   \n",
      "Malicious Activity                       0                  20   \n",
      "Malicious Content                        0                   0   \n",
      "Other                                    8                  50   \n",
      "SPAM                                    15                   3   \n",
      "Trademark Infringement                   2                   0   \n",
      "__all__                                 44                  73   \n",
      "\n",
      "Predicted               Malicious Content  Other  SPAM  \\\n",
      "Actual                                                   \n",
      "Child Exploitation                      1     13     0   \n",
      "Malicious Activity                     14    237    13   \n",
      "Malicious Content                     856    702     8   \n",
      "Other                                  76   2008    81   \n",
      "SPAM                                    6    192   672   \n",
      "Trademark Infringement                  1    157     0   \n",
      "__all__                               954   3309   774   \n",
      "\n",
      "Predicted               Trademark Infringement  __all__  \n",
      "Actual                                                   \n",
      "Child Exploitation                          12       45  \n",
      "Malicious Activity                           0      284  \n",
      "Malicious Content                           73     1639  \n",
      "Other                                      193     2416  \n",
      "SPAM                                         1      889  \n",
      "Trademark Infringement                    1989     2149  \n",
      "__all__                                   2268     7422  , Predicted               Child Exploitation  Malicious Activity  \\\n",
      "Actual                                                           \n",
      "Child Exploitation                      16                   0   \n",
      "Malicious Activity                       1                 156   \n",
      "Malicious Content                        0                  71   \n",
      "Other                                   45                 520   \n",
      "SPAM                                     4                  33   \n",
      "Trademark Infringement                   0                   0   \n",
      "__all__                                 66                 780   \n",
      "\n",
      "Predicted               Malicious Content  Other  SPAM  \\\n",
      "Actual                                                   \n",
      "Child Exploitation                      0     17     0   \n",
      "Malicious Activity                      2     94    31   \n",
      "Malicious Content                     827    670     8   \n",
      "Other                                 172   1438   137   \n",
      "SPAM                                    3    149   699   \n",
      "Trademark Infringement                  2    740     1   \n",
      "__all__                              1006   3108   876   \n",
      "\n",
      "Predicted               Trademark Infringement  __all__  \n",
      "Actual                                                   \n",
      "Child Exploitation                          12       45  \n",
      "Malicious Activity                           0      284  \n",
      "Malicious Content                           63     1639  \n",
      "Other                                      104     2416  \n",
      "SPAM                                         1      889  \n",
      "Trademark Infringement                    1406     2149  \n",
      "__all__                                   1586     7422  , Predicted               Child Exploitation  Malicious Activity  \\\n",
      "Actual                                                           \n",
      "Child Exploitation                      18                   0   \n",
      "Malicious Activity                       0                  43   \n",
      "Malicious Content                        2                  12   \n",
      "Other                                    2                 258   \n",
      "SPAM                                    17                  29   \n",
      "Trademark Infringement                   0                   0   \n",
      "__all__                                 39                 342   \n",
      "\n",
      "Predicted               Malicious Content  Other  SPAM  \\\n",
      "Actual                                                   \n",
      "Child Exploitation                      1     23     2   \n",
      "Malicious Activity                      9    205    27   \n",
      "Malicious Content                     642    972     4   \n",
      "Other                                 379   1621    59   \n",
      "SPAM                                    4    396   442   \n",
      "Trademark Infringement                  6    587     0   \n",
      "__all__                              1041   3804   534   \n",
      "\n",
      "Predicted               Trademark Infringement  __all__  \n",
      "Actual                                                   \n",
      "Child Exploitation                           1       45  \n",
      "Malicious Activity                           0      284  \n",
      "Malicious Content                            7     1639  \n",
      "Other                                       97     2416  \n",
      "SPAM                                         1      889  \n",
      "Trademark Infringement                    1556     2149  \n",
      "__all__                                   1662     7422  , Predicted               Child Exploitation  Malicious Activity  \\\n",
      "Actual                                                           \n",
      "Child Exploitation                      10                   0   \n",
      "Malicious Activity                       0                  71   \n",
      "Malicious Content                        0                  37   \n",
      "Other                                    5                 157   \n",
      "SPAM                                    16                  22   \n",
      "Trademark Infringement                   0                   0   \n",
      "__all__                                 31                 287   \n",
      "\n",
      "Predicted               Malicious Content  Other  SPAM  \\\n",
      "Actual                                                   \n",
      "Child Exploitation                      3     30     2   \n",
      "Malicious Activity                     55    147    11   \n",
      "Malicious Content                     939    516    29   \n",
      "Other                                 337   1602   165   \n",
      "SPAM                                   55    169   626   \n",
      "Trademark Infringement                  1    195     1   \n",
      "__all__                              1390   2659   834   \n",
      "\n",
      "Predicted               Trademark Infringement  __all__  \n",
      "Actual                                                   \n",
      "Child Exploitation                           0       45  \n",
      "Malicious Activity                           0      284  \n",
      "Malicious Content                          118     1639  \n",
      "Other                                      150     2416  \n",
      "SPAM                                         1      889  \n",
      "Trademark Infringement                    1952     2149  \n",
      "__all__                                   2221     7422  , Predicted               Child Exploitation  Malicious Activity  \\\n",
      "Actual                                                           \n",
      "Child Exploitation                      11                   0   \n",
      "Malicious Activity                       1                 110   \n",
      "Malicious Content                       75                   8   \n",
      "Other                                  299                 196   \n",
      "SPAM                                    34                  62   \n",
      "Trademark Infringement                   2                   0   \n",
      "__all__                                422                 376   \n",
      "\n",
      "Predicted               Malicious Content  Other  SPAM  \\\n",
      "Actual                                                   \n",
      "Child Exploitation                     14     19     1   \n",
      "Malicious Activity                     14    133    21   \n",
      "Malicious Content                     677    626    19   \n",
      "Other                                 290   1325   167   \n",
      "SPAM                                   14    223   554   \n",
      "Trademark Infringement                  3    246     0   \n",
      "__all__                              1012   2572   762   \n",
      "\n",
      "Predicted               Trademark Infringement  __all__  \n",
      "Actual                                                   \n",
      "Child Exploitation                           0       45  \n",
      "Malicious Activity                           5      284  \n",
      "Malicious Content                          234     1639  \n",
      "Other                                      139     2416  \n",
      "SPAM                                         2      889  \n",
      "Trademark Infringement                    1898     2149  \n",
      "__all__                                   2278     7422  , Predicted               Child Exploitation  Malicious Activity  \\\n",
      "Actual                                                           \n",
      "Child Exploitation                      18                   1   \n",
      "Malicious Activity                       0                 194   \n",
      "Malicious Content                        1                 284   \n",
      "Other                                    0                 988   \n",
      "SPAM                                     5                 217   \n",
      "Trademark Infringement                   0                   1   \n",
      "__all__                                 24                1685   \n",
      "\n",
      "Predicted               Malicious Content  Other  SPAM  \\\n",
      "Actual                                                   \n",
      "Child Exploitation                     12     11     3   \n",
      "Malicious Activity                     20     56    13   \n",
      "Malicious Content                     893    247    34   \n",
      "Other                                 396    726   152   \n",
      "SPAM                                   40    132   490   \n",
      "Trademark Infringement                269    275    84   \n",
      "__all__                              1630   1447   776   \n",
      "\n",
      "Predicted               Trademark Infringement  __all__  \n",
      "Actual                                                   \n",
      "Child Exploitation                           0       45  \n",
      "Malicious Activity                           1      284  \n",
      "Malicious Content                          180     1639  \n",
      "Other                                      154     2416  \n",
      "SPAM                                         5      889  \n",
      "Trademark Infringement                    1520     2149  \n",
      "__all__                                   1860     7422  ], ['00', '04', '09', '10', '11', '12', '13', '133', '14', '15', '16', '162', '17', '18', '198', '199', '20', '200', '2015', '2016', '209', '21', '22', '23', '233', '26', '27', '30', '31', '46', '50', '68', '74', '80', '96', 'abuse', 'address', 'all', 'an', 'and', 'any', 'are', 'as', 'at', 'be', 'by', 'case', 'com', 'content', 'copyright', 'de', 'email', 'for', 'from', 'gt', 'has', 'have', 'html', 'http', 'https', 'if', 'in', 'information', 'ip', 'is', 'issue', 'it', 'login', 'mail', 'may', 'message', 'net', 'network', 'not', 'notice', 'of', 'on', 'or', 'our', 'php', 'pk', 'play', 'please', 'post', 'received', 'reel', 'server', 'tcp', 'that', 'the', 'this', 'to', 'us', 'we', 'with', 'wp', 'www', 'you', 'your'])\n"
     ]
    },
    {
     "ename": "ValueError",
     "evalue": "x and y must have same first dimension, but have shapes (10,) and (100,)",
     "output_type": "error",
     "traceback": [
      "\u001b[0;31m---------------------------------------------------------------------------\u001b[0m",
      "\u001b[0;31mValueError\u001b[0m                                Traceback (most recent call last)",
      "\u001b[0;32m<ipython-input-35-4447f666c2d4>\u001b[0m in \u001b[0;36m<module>\u001b[0;34m()\u001b[0m\n\u001b[1;32m      1\u001b[0m \u001b[0mres\u001b[0m \u001b[0;34m=\u001b[0m \u001b[0mrun_spread\u001b[0m\u001b[0;34m(\u001b[0m\u001b[0madaboost\u001b[0m\u001b[0;34m,\u001b[0m \u001b[0mraw_data\u001b[0m\u001b[0;34m)\u001b[0m\u001b[0;34m\u001b[0m\u001b[0m\n\u001b[1;32m      2\u001b[0m \u001b[0mprint\u001b[0m\u001b[0;34m(\u001b[0m\u001b[0mres\u001b[0m\u001b[0;34m)\u001b[0m\u001b[0;34m\u001b[0m\u001b[0m\n\u001b[0;32m----> 3\u001b[0;31m \u001b[0mplt\u001b[0m\u001b[0;34m.\u001b[0m\u001b[0mplot\u001b[0m\u001b[0;34m(\u001b[0m\u001b[0;34m*\u001b[0m\u001b[0mres\u001b[0m\u001b[0;34m)\u001b[0m\u001b[0;34m\u001b[0m\u001b[0m\n\u001b[0m",
      "\u001b[0;32m~/mac-dotfiles/envs/abuse/lib/python3.6/site-packages/matplotlib/pyplot.py\u001b[0m in \u001b[0;36mplot\u001b[0;34m(*args, **kwargs)\u001b[0m\n\u001b[1;32m   3238\u001b[0m                       mplDeprecation)\n\u001b[1;32m   3239\u001b[0m     \u001b[0;32mtry\u001b[0m\u001b[0;34m:\u001b[0m\u001b[0;34m\u001b[0m\u001b[0m\n\u001b[0;32m-> 3240\u001b[0;31m         \u001b[0mret\u001b[0m \u001b[0;34m=\u001b[0m \u001b[0max\u001b[0m\u001b[0;34m.\u001b[0m\u001b[0mplot\u001b[0m\u001b[0;34m(\u001b[0m\u001b[0;34m*\u001b[0m\u001b[0margs\u001b[0m\u001b[0;34m,\u001b[0m \u001b[0;34m**\u001b[0m\u001b[0mkwargs\u001b[0m\u001b[0;34m)\u001b[0m\u001b[0;34m\u001b[0m\u001b[0m\n\u001b[0m\u001b[1;32m   3241\u001b[0m     \u001b[0;32mfinally\u001b[0m\u001b[0;34m:\u001b[0m\u001b[0;34m\u001b[0m\u001b[0m\n\u001b[1;32m   3242\u001b[0m         \u001b[0max\u001b[0m\u001b[0;34m.\u001b[0m\u001b[0m_hold\u001b[0m \u001b[0;34m=\u001b[0m \u001b[0mwashold\u001b[0m\u001b[0;34m\u001b[0m\u001b[0m\n",
      "\u001b[0;32m~/mac-dotfiles/envs/abuse/lib/python3.6/site-packages/matplotlib/__init__.py\u001b[0m in \u001b[0;36minner\u001b[0;34m(ax, *args, **kwargs)\u001b[0m\n\u001b[1;32m   1708\u001b[0m                     warnings.warn(msg % (label_namer, func.__name__),\n\u001b[1;32m   1709\u001b[0m                                   RuntimeWarning, stacklevel=2)\n\u001b[0;32m-> 1710\u001b[0;31m             \u001b[0;32mreturn\u001b[0m \u001b[0mfunc\u001b[0m\u001b[0;34m(\u001b[0m\u001b[0max\u001b[0m\u001b[0;34m,\u001b[0m \u001b[0;34m*\u001b[0m\u001b[0margs\u001b[0m\u001b[0;34m,\u001b[0m \u001b[0;34m**\u001b[0m\u001b[0mkwargs\u001b[0m\u001b[0;34m)\u001b[0m\u001b[0;34m\u001b[0m\u001b[0m\n\u001b[0m\u001b[1;32m   1711\u001b[0m         \u001b[0mpre_doc\u001b[0m \u001b[0;34m=\u001b[0m \u001b[0minner\u001b[0m\u001b[0;34m.\u001b[0m\u001b[0m__doc__\u001b[0m\u001b[0;34m\u001b[0m\u001b[0m\n\u001b[1;32m   1712\u001b[0m         \u001b[0;32mif\u001b[0m \u001b[0mpre_doc\u001b[0m \u001b[0;32mis\u001b[0m \u001b[0;32mNone\u001b[0m\u001b[0;34m:\u001b[0m\u001b[0;34m\u001b[0m\u001b[0m\n",
      "\u001b[0;32m~/mac-dotfiles/envs/abuse/lib/python3.6/site-packages/matplotlib/axes/_axes.py\u001b[0m in \u001b[0;36mplot\u001b[0;34m(self, *args, **kwargs)\u001b[0m\n\u001b[1;32m   1435\u001b[0m         \u001b[0mkwargs\u001b[0m \u001b[0;34m=\u001b[0m \u001b[0mcbook\u001b[0m\u001b[0;34m.\u001b[0m\u001b[0mnormalize_kwargs\u001b[0m\u001b[0;34m(\u001b[0m\u001b[0mkwargs\u001b[0m\u001b[0;34m,\u001b[0m \u001b[0m_alias_map\u001b[0m\u001b[0;34m)\u001b[0m\u001b[0;34m\u001b[0m\u001b[0m\n\u001b[1;32m   1436\u001b[0m \u001b[0;34m\u001b[0m\u001b[0m\n\u001b[0;32m-> 1437\u001b[0;31m         \u001b[0;32mfor\u001b[0m \u001b[0mline\u001b[0m \u001b[0;32min\u001b[0m \u001b[0mself\u001b[0m\u001b[0;34m.\u001b[0m\u001b[0m_get_lines\u001b[0m\u001b[0;34m(\u001b[0m\u001b[0;34m*\u001b[0m\u001b[0margs\u001b[0m\u001b[0;34m,\u001b[0m \u001b[0;34m**\u001b[0m\u001b[0mkwargs\u001b[0m\u001b[0;34m)\u001b[0m\u001b[0;34m:\u001b[0m\u001b[0;34m\u001b[0m\u001b[0m\n\u001b[0m\u001b[1;32m   1438\u001b[0m             \u001b[0mself\u001b[0m\u001b[0;34m.\u001b[0m\u001b[0madd_line\u001b[0m\u001b[0;34m(\u001b[0m\u001b[0mline\u001b[0m\u001b[0;34m)\u001b[0m\u001b[0;34m\u001b[0m\u001b[0m\n\u001b[1;32m   1439\u001b[0m             \u001b[0mlines\u001b[0m\u001b[0;34m.\u001b[0m\u001b[0mappend\u001b[0m\u001b[0;34m(\u001b[0m\u001b[0mline\u001b[0m\u001b[0;34m)\u001b[0m\u001b[0;34m\u001b[0m\u001b[0m\n",
      "\u001b[0;32m~/mac-dotfiles/envs/abuse/lib/python3.6/site-packages/matplotlib/axes/_base.py\u001b[0m in \u001b[0;36m_grab_next_args\u001b[0;34m(self, *args, **kwargs)\u001b[0m\n\u001b[1;32m    402\u001b[0m                 \u001b[0mthis\u001b[0m \u001b[0;34m+=\u001b[0m \u001b[0margs\u001b[0m\u001b[0;34m[\u001b[0m\u001b[0;36m0\u001b[0m\u001b[0;34m]\u001b[0m\u001b[0;34m,\u001b[0m\u001b[0;34m\u001b[0m\u001b[0m\n\u001b[1;32m    403\u001b[0m                 \u001b[0margs\u001b[0m \u001b[0;34m=\u001b[0m \u001b[0margs\u001b[0m\u001b[0;34m[\u001b[0m\u001b[0;36m1\u001b[0m\u001b[0;34m:\u001b[0m\u001b[0;34m]\u001b[0m\u001b[0;34m\u001b[0m\u001b[0m\n\u001b[0;32m--> 404\u001b[0;31m             \u001b[0;32mfor\u001b[0m \u001b[0mseg\u001b[0m \u001b[0;32min\u001b[0m \u001b[0mself\u001b[0m\u001b[0;34m.\u001b[0m\u001b[0m_plot_args\u001b[0m\u001b[0;34m(\u001b[0m\u001b[0mthis\u001b[0m\u001b[0;34m,\u001b[0m \u001b[0mkwargs\u001b[0m\u001b[0;34m)\u001b[0m\u001b[0;34m:\u001b[0m\u001b[0;34m\u001b[0m\u001b[0m\n\u001b[0m\u001b[1;32m    405\u001b[0m                 \u001b[0;32myield\u001b[0m \u001b[0mseg\u001b[0m\u001b[0;34m\u001b[0m\u001b[0m\n\u001b[1;32m    406\u001b[0m \u001b[0;34m\u001b[0m\u001b[0m\n",
      "\u001b[0;32m~/mac-dotfiles/envs/abuse/lib/python3.6/site-packages/matplotlib/axes/_base.py\u001b[0m in \u001b[0;36m_plot_args\u001b[0;34m(self, tup, kwargs)\u001b[0m\n\u001b[1;32m    382\u001b[0m             \u001b[0mx\u001b[0m\u001b[0;34m,\u001b[0m \u001b[0my\u001b[0m \u001b[0;34m=\u001b[0m \u001b[0mindex_of\u001b[0m\u001b[0;34m(\u001b[0m\u001b[0mtup\u001b[0m\u001b[0;34m[\u001b[0m\u001b[0;34m-\u001b[0m\u001b[0;36m1\u001b[0m\u001b[0;34m]\u001b[0m\u001b[0;34m)\u001b[0m\u001b[0;34m\u001b[0m\u001b[0m\n\u001b[1;32m    383\u001b[0m \u001b[0;34m\u001b[0m\u001b[0m\n\u001b[0;32m--> 384\u001b[0;31m         \u001b[0mx\u001b[0m\u001b[0;34m,\u001b[0m \u001b[0my\u001b[0m \u001b[0;34m=\u001b[0m \u001b[0mself\u001b[0m\u001b[0;34m.\u001b[0m\u001b[0m_xy_from_xy\u001b[0m\u001b[0;34m(\u001b[0m\u001b[0mx\u001b[0m\u001b[0;34m,\u001b[0m \u001b[0my\u001b[0m\u001b[0;34m)\u001b[0m\u001b[0;34m\u001b[0m\u001b[0m\n\u001b[0m\u001b[1;32m    385\u001b[0m \u001b[0;34m\u001b[0m\u001b[0m\n\u001b[1;32m    386\u001b[0m         \u001b[0;32mif\u001b[0m \u001b[0mself\u001b[0m\u001b[0;34m.\u001b[0m\u001b[0mcommand\u001b[0m \u001b[0;34m==\u001b[0m \u001b[0;34m'plot'\u001b[0m\u001b[0;34m:\u001b[0m\u001b[0;34m\u001b[0m\u001b[0m\n",
      "\u001b[0;32m~/mac-dotfiles/envs/abuse/lib/python3.6/site-packages/matplotlib/axes/_base.py\u001b[0m in \u001b[0;36m_xy_from_xy\u001b[0;34m(self, x, y)\u001b[0m\n\u001b[1;32m    241\u001b[0m         \u001b[0;32mif\u001b[0m \u001b[0mx\u001b[0m\u001b[0;34m.\u001b[0m\u001b[0mshape\u001b[0m\u001b[0;34m[\u001b[0m\u001b[0;36m0\u001b[0m\u001b[0;34m]\u001b[0m \u001b[0;34m!=\u001b[0m \u001b[0my\u001b[0m\u001b[0;34m.\u001b[0m\u001b[0mshape\u001b[0m\u001b[0;34m[\u001b[0m\u001b[0;36m0\u001b[0m\u001b[0;34m]\u001b[0m\u001b[0;34m:\u001b[0m\u001b[0;34m\u001b[0m\u001b[0m\n\u001b[1;32m    242\u001b[0m             raise ValueError(\"x and y must have same first dimension, but \"\n\u001b[0;32m--> 243\u001b[0;31m                              \"have shapes {} and {}\".format(x.shape, y.shape))\n\u001b[0m\u001b[1;32m    244\u001b[0m         \u001b[0;32mif\u001b[0m \u001b[0mx\u001b[0m\u001b[0;34m.\u001b[0m\u001b[0mndim\u001b[0m \u001b[0;34m>\u001b[0m \u001b[0;36m2\u001b[0m \u001b[0;32mor\u001b[0m \u001b[0my\u001b[0m\u001b[0;34m.\u001b[0m\u001b[0mndim\u001b[0m \u001b[0;34m>\u001b[0m \u001b[0;36m2\u001b[0m\u001b[0;34m:\u001b[0m\u001b[0;34m\u001b[0m\u001b[0m\n\u001b[1;32m    245\u001b[0m             raise ValueError(\"x and y can be no greater than 2-D, but have \"\n",
      "\u001b[0;31mValueError\u001b[0m: x and y must have same first dimension, but have shapes (10,) and (100,)"
     ]
    },
    {
     "data": {
      "image/png": "[encoded data removed]",
      "text/plain": [
       "<matplotlib.figure.Figure at 0x1150dc9b0>"
      ]
     },
     "metadata": {},
     "output_type": "display_data"
    }
   ],
   "source": [
    "res = run_spread(adaboost, raw_data)\n",
    "print(res)\n",
    "plt.plot(*res)"
   ]
  },
  {
   "cell_type": "code",
   "execution_count": 36,
   "metadata": {},
   "outputs": [
    {
     "data": {
      "text/plain": [
       "[<matplotlib.lines.Line2D at 0x11e3b6e80>]"
      ]
     },
     "execution_count": 36,
     "metadata": {},
     "output_type": "execute_result"
    },
    {
     "data": {
      "image/png": "[encoded data removed]",
      "text/plain": [
       "<matplotlib.figure.Figure at 0x122bc59e8>"
      ]
     },
     "metadata": {},
     "output_type": "display_data"
    }
   ],
   "source": [
    "plt.plot(res[0], res[1])"
   ]
  },
  {
   "cell_type": "markdown",
   "metadata": {},
   "source": [
    "## Nueral Net"
   ]
  },
  {
   "cell_type": "code",
   "execution_count": 15,
   "metadata": {},
   "outputs": [],
   "source": [
    "def nn(X_train, y_train, X_test):\n",
    "    clf = MLPClassifier(solver='lbfgs', alpha=1e-5, hidden_layer_sizes=(10, 2), random_state=1) \n",
    "    with sklearn.config_context(assume_finite=True):\n",
    "        return clf.fit(X_train, y_train).predict(X_test)"
   ]
  },
  {
   "cell_type": "code",
   "execution_count": 16,
   "metadata": {},
   "outputs": [
    {
     "name": "stdout",
     "output_type": "stream",
     "text": [
      "[1000, 900, 800, 700, 600, 500, 400, 300, 200, 100] [0.74130962004850443, 0.32551872810563193, 0.83279439504176767, 0.79655079493398007, 0.32497978981406628, 0.7274319590406898, 0.76933441120991641, 0.57181352735111834, 0.61829695499865267, 0.32551872810563193]\n"
     ]
    },
    {
     "data": {
      "text/plain": [
       "[<matplotlib.lines.Line2D at 0x10ea742e8>]"
      ]
     },
     "execution_count": 16,
     "metadata": {},
     "output_type": "execute_result"
    },
    {
     "data": {
      "image/png": "[encoded data removed]",
      "text/plain": [
       "<matplotlib.figure.Figure at 0x10e913be0>"
      ]
     },
     "metadata": {},
     "output_type": "display_data"
    }
   ],
   "source": [
    "x, y, matrix, labels = run_spread(nn, raw_data)\n",
    "print(x, y)\n",
    "plt.plot(x, y)"
   ]
  },
  {
   "cell_type": "code",
   "execution_count": 172,
   "metadata": {},
   "outputs": [
    {
     "data": {
      "text/plain": [
       "Predicted                               Child Exploitation  ISIS Propaganda  \\\n",
       "Actual                                                                        \n",
       "Child Exploitation                                       3                0   \n",
       "ISIS Propaganda                                          0                0   \n",
       "Malicious Activity                                       0                0   \n",
       "Malicious Content                                        0                0   \n",
       "SPAM                                                     1                0   \n",
       "Trademark Infringement                                   0                0   \n",
       "Using Un-Allocated IP Addresses                          0                0   \n",
       "Vulnerability notification for domains                   0                0   \n",
       "__all__                                                  4                0   \n",
       "\n",
       "Predicted                               Malicious Activity  Malicious Content  \\\n",
       "Actual                                                                          \n",
       "Child Exploitation                                       0                 12   \n",
       "ISIS Propaganda                                          0                  0   \n",
       "Malicious Activity                                    1510                 22   \n",
       "Malicious Content                                       57                285   \n",
       "SPAM                                                    43                  2   \n",
       "Trademark Infringement                                   5                 17   \n",
       "Using Un-Allocated IP Addresses                          2                  1   \n",
       "Vulnerability notification for domains                   0                  6   \n",
       "__all__                                               1617                345   \n",
       "\n",
       "Predicted                               SPAM  Trademark Infringement  \\\n",
       "Actual                                                                 \n",
       "Child Exploitation                         5                      18   \n",
       "ISIS Propaganda                            0                       8   \n",
       "Malicious Activity                        21                      10   \n",
       "Malicious Content                          6                       5   \n",
       "SPAM                                     843                       5   \n",
       "Trademark Infringement                     8                    2130   \n",
       "Using Un-Allocated IP Addresses            0                       0   \n",
       "Vulnerability notification for domains     0                       3   \n",
       "__all__                                  883                    2179   \n",
       "\n",
       "Predicted                               Using Un-Allocated IP Addresses  \\\n",
       "Actual                                                                    \n",
       "Child Exploitation                                                    0   \n",
       "ISIS Propaganda                                                       0   \n",
       "Malicious Activity                                                    0   \n",
       "Malicious Content                                                     0   \n",
       "SPAM                                                                  0   \n",
       "Trademark Infringement                                                0   \n",
       "Using Un-Allocated IP Addresses                                       0   \n",
       "Vulnerability notification for domains                                0   \n",
       "__all__                                                               0   \n",
       "\n",
       "Predicted                               Vulnerability notification for domains  \\\n",
       "Actual                                                                           \n",
       "Child Exploitation                                                           0   \n",
       "ISIS Propaganda                                                              0   \n",
       "Malicious Activity                                                           0   \n",
       "Malicious Content                                                            0   \n",
       "SPAM                                                                         0   \n",
       "Trademark Infringement                                                       0   \n",
       "Using Un-Allocated IP Addresses                                              0   \n",
       "Vulnerability notification for domains                                       0   \n",
       "__all__                                                                      0   \n",
       "\n",
       "Predicted                               __all__  \n",
       "Actual                                           \n",
       "Child Exploitation                           38  \n",
       "ISIS Propaganda                               8  \n",
       "Malicious Activity                         1563  \n",
       "Malicious Content                           353  \n",
       "SPAM                                        894  \n",
       "Trademark Infringement                     2160  \n",
       "Using Un-Allocated IP Addresses               3  \n",
       "Vulnerability notification for domains        9  \n",
       "__all__                                    5028  "
      ]
     },
     "execution_count": 172,
     "metadata": {},
     "output_type": "execute_result"
    }
   ],
   "source": [
    "matrix[5]"
   ]
  },
  {
   "cell_type": "markdown",
   "metadata": {},
   "source": [
    "## Analysis\n",
    "\n",
    "Seems that a typical nueral net and decision tree perform the best.  We will use those algos to test n-grams."
   ]
  },
  {
   "cell_type": "markdown",
   "metadata": {},
   "source": [
    "Building model with random forest"
   ]
  },
  {
   "cell_type": "code",
   "execution_count": 19,
   "metadata": {},
   "outputs": [
    {
     "name": "stdout",
     "output_type": "stream",
     "text": [
      "SPLITTING\n",
      "PREDICTING\n",
      "(7543, 500)\n"
     ]
    }
   ],
   "source": [
    "X, y, labels = get_X_y(raw_data, max_features=500)\n",
    "print(\"SPLITTING\")\n",
    "X_train, X_test, y_train, y_test = train_test_split(X, y, test_size=.4, random_state=1)\n",
    "del X\n",
    "del y\n",
    "print(\"PREDICTING\")\n",
    "print(X_train.shape)"
   ]
  },
  {
   "cell_type": "code",
   "execution_count": 20,
   "metadata": {},
   "outputs": [],
   "source": [
    "clf =  RandomForestClassifier() \n",
    "clf = CalibratedClassifierCV(clf)\n",
    "with sklearn.config_context(assume_finite=True):\n",
    "    model = clf.fit(X_train, y_train)\n",
    "    y_pred = model.predict(X_test)"
   ]
  },
  {
   "cell_type": "code",
   "execution_count": 21,
   "metadata": {},
   "outputs": [
    {
     "name": "stdout",
     "output_type": "stream",
     "text": [
      "['__class__', '__delattr__', '__dict__', '__dir__', '__doc__', '__eq__', '__format__', '__ge__', '__getattribute__', '__getstate__', '__gt__', '__hash__', '__init__', '__init_subclass__', '__le__', '__lt__', '__module__', '__ne__', '__new__', '__reduce__', '__reduce_ex__', '__repr__', '__setattr__', '__setstate__', '__sizeof__', '__str__', '__subclasshook__', '__weakref__', '_estimator_type', '_get_param_names', 'base_estimator', 'calibrated_classifiers_', 'classes_', 'cv', 'fit', 'get_params', 'method', 'predict', 'predict_proba', 'score', 'set_params']\n",
      "[ 0.00211183  0.00485825  0.00373211  0.00105663  0.00224944  0.98599173]\n",
      "['Child Exploitation' 'Malicious Activity' 'Malicious Content' 'Other'\n",
      " 'SPAM' 'Trademark Infringement']\n",
      "Trademark Infringement\n"
     ]
    }
   ],
   "source": [
    "print(dir(clf))\n",
    "index = 1\n",
    "print(clf.predict_proba(X_test)[0])\n",
    "print(clf.classes_)\n",
    "print(y_test[0])"
   ]
  },
  {
   "cell_type": "code",
   "execution_count": 22,
   "metadata": {},
   "outputs": [
    {
     "data": {
      "text/plain": [
       "0.97792801749850866"
      ]
     },
     "execution_count": 22,
     "metadata": {},
     "output_type": "execute_result"
    }
   ],
   "source": [
    "acc(y_test, y_pred)"
   ]
  },
  {
   "cell_type": "code",
   "execution_count": 25,
   "metadata": {},
   "outputs": [
    {
     "name": "stdout",
     "output_type": "stream",
     "text": [
      "['PRED_NAME', 'TRUE_NAME', '__class__', '__delattr__', '__dict__', '__dir__', '__doc__', '__eq__', '__format__', '__ge__', '__getattr__', '__getattribute__', '__gt__', '__hash__', '__init__', '__init_subclass__', '__le__', '__lt__', '__module__', '__ne__', '__new__', '__reduce__', '__reduce_ex__', '__repr__', '__setattr__', '__sizeof__', '__str__', '__subclasshook__', '__weakref__', '_avg_stat', '_classes', '_df_confusion', '_label', '_len', '_name_from_dict', '_str_dict', '_str_stats', '_y_pred', '_y_true', 'backend', 'binarize', 'classes', 'classification_report', 'display_sum', 'enlarge', 'get', 'is_binary', 'len', 'max', 'min', 'plot', 'population', 'pred', 'pred_name', 'print_stats', 'stats', 'stats_class', 'stats_overall', 'sum', 'title', 'to_array', 'to_dataframe', 'toarray', 'true', 'true_name', 'y_pred', 'y_true']\n"
     ]
    }
   ],
   "source": [
    "print(dir(ConfusionMatrix(y_test, y_pred)))"
   ]
  },
  {
   "cell_type": "code",
   "execution_count": 36,
   "metadata": {},
   "outputs": [
    {
     "data": {
      "text/plain": [
       "Predicted               Child Exploitation  Malicious Activity  \\\n",
       "Actual                                                           \n",
       "Child Exploitation                      32                   0   \n",
       "Malicious Activity                       0                 228   \n",
       "Malicious Content                        0                   1   \n",
       "Other                                    0                   2   \n",
       "SPAM                                     0                   1   \n",
       "Trademark Infringement                   0                   0   \n",
       "__all__                                 32                 232   \n",
       "\n",
       "Predicted               Malicious Content  Other  SPAM  \\\n",
       "Actual                                                   \n",
       "Child Exploitation                      5      0     4   \n",
       "Malicious Activity                      6      0    30   \n",
       "Malicious Content                    1568      0    23   \n",
       "Other                                   2     20     0   \n",
       "SPAM                                    9      0   882   \n",
       "Trademark Infringement                 14      0     5   \n",
       "__all__                              1604     20   944   \n",
       "\n",
       "Predicted               Trademark Infringement  __all__  \n",
       "Actual                                                   \n",
       "Child Exploitation                           1       42  \n",
       "Malicious Activity                           1      265  \n",
       "Malicious Content                            5     1597  \n",
       "Other                                        2       26  \n",
       "SPAM                                         0      892  \n",
       "Trademark Infringement                    2188     2207  \n",
       "__all__                                   2197     5029  "
      ]
     },
     "execution_count": 36,
     "metadata": {},
     "output_type": "execute_result"
    },
    {
     "data": {
      "image/png": "[encoded data removed]",
      "text/plain": [
       "<matplotlib.figure.Figure at 0x1169f0080>"
      ]
     },
     "metadata": {},
     "output_type": "display_data"
    }
   ],
   "source": [
    "ConfusionMatrix(y_test, y_pred).plot()\n",
    "ConfusionMatrix(y_test, y_pred)"
   ]
  },
  {
   "cell_type": "markdown",
   "metadata": {},
   "source": [
    "Dump model for use in webapp.  Will adjust hyper parameters later.  Will also want to remove features that can color the prediction, i.e. numbers."
   ]
  },
  {
   "cell_type": "code",
   "execution_count": 37,
   "metadata": {},
   "outputs": [],
   "source": [
    "X = []\n",
    "y = []\n",
    "for i in raw_data:\n",
    "    X.append(i['body'])\n",
    "    y.append(i['type'])\n",
    "vectorizer = CountVectorizer(max_features=500)\n",
    "X = vectorizer.fit_transform(X)\n",
    "labels = vectorizer.get_feature_names()\n",
    "data = X.toarray()\n",
    "\n",
    "X_train, X_test, y_train, y_test = train_test_split(X, y, test_size=.4, random_state=1)"
   ]
  },
  {
   "cell_type": "code",
   "execution_count": 41,
   "metadata": {},
   "outputs": [],
   "source": [
    "clf =  RandomForestClassifier() \n",
    "calib_clf = CalibratedClassifierCV(clf)\n",
    "with sklearn.config_context(assume_finite=True):\n",
    "    model = calib_clf.fit(X_train, y_train)\n",
    "    \n",
    "import pickle\n",
    "with open('model.pickle', 'wb') as f:\n",
    "    pickle.dump((vectorizer, model), f)\n",
    "    \n",
    "#with open('model.pkl', 'rb') as f:\n",
    "#  vectorizer, clf = pickle.load(f)\n",
    "#clf2.predict_proba(X_test[0].reshape(1, -1)),\n",
    "#clf2.classes_"
   ]
  },
  {
   "cell_type": "code",
   "execution_count": 42,
   "metadata": {},
   "outputs": [],
   "source": [
    "with open('lables.json', 'w') as f:\n",
    "    f.write(json.dumps(labels))"
   ]
  },
  {
   "cell_type": "code",
   "execution_count": 54,
   "metadata": {},
   "outputs": [
    {
     "name": "stdout",
     "output_type": "stream",
     "text": [
      "Feature ranking:\n",
      "1. feature 144 (0.074518)\n",
      "2. feature 367 (0.064959)\n",
      "3. feature 404 (0.051374)\n",
      "4. feature 371 (0.051307)\n",
      "5. feature 178 (0.047013)\n",
      "6. feature 364 (0.041286)\n",
      "7. feature 258 (0.038942)\n",
      "8. feature 169 (0.035569)\n",
      "9. feature 250 (0.029218)\n",
      "10. feature 407 (0.029020)\n",
      "11. feature 429 (0.020459)\n",
      "12. feature 282 (0.019791)\n",
      "13. feature 475 (0.015581)\n",
      "14. feature 217 (0.014281)\n",
      "15. feature 434 (0.012297)\n",
      "16. feature 369 (0.010326)\n",
      "17. feature 420 (0.009592)\n",
      "18. feature 302 (0.009543)\n",
      "19. feature 277 (0.009206)\n",
      "20. feature 264 (0.008970)\n",
      "21. feature 265 (0.008230)\n",
      "22. feature 278 (0.007917)\n",
      "23. feature 400 (0.007880)\n",
      "24. feature 361 (0.007660)\n",
      "25. feature 346 (0.007582)\n",
      "26. feature 209 (0.007404)\n",
      "27. feature 482 (0.007404)\n",
      "28. feature 288 (0.006824)\n",
      "29. feature 317 (0.006808)\n",
      "30. feature 362 (0.006541)\n",
      "31. feature 385 (0.006386)\n",
      "32. feature 253 (0.006373)\n",
      "33. feature 294 (0.006260)\n",
      "34. feature 314 (0.005679)\n",
      "35. feature 308 (0.005627)\n",
      "36. feature 0 (0.005498)\n",
      "37. feature 468 (0.005002)\n",
      "38. feature 446 (0.004994)\n",
      "39. feature 164 (0.004649)\n",
      "40. feature 295 (0.003799)\n",
      "41. feature 236 (0.003762)\n",
      "42. feature 84 (0.003759)\n",
      "43. feature 234 (0.003755)\n",
      "44. feature 499 (0.003714)\n",
      "45. feature 460 (0.003395)\n",
      "46. feature 159 (0.003301)\n",
      "47. feature 358 (0.003162)\n",
      "48. feature 183 (0.003136)\n",
      "49. feature 262 (0.003134)\n",
      "50. feature 444 (0.003133)\n",
      "51. feature 287 (0.003017)\n",
      "52. feature 428 (0.002945)\n",
      "53. feature 228 (0.002848)\n",
      "54. feature 456 (0.002724)\n",
      "55. feature 363 (0.002715)\n",
      "56. feature 457 (0.002701)\n",
      "57. feature 323 (0.002604)\n",
      "58. feature 423 (0.002505)\n",
      "59. feature 272 (0.002449)\n",
      "60. feature 412 (0.002447)\n",
      "61. feature 220 (0.002443)\n",
      "62. feature 280 (0.002413)\n",
      "63. feature 230 (0.002387)\n",
      "64. feature 176 (0.002321)\n",
      "65. feature 142 (0.002263)\n",
      "66. feature 195 (0.002140)\n",
      "67. feature 269 (0.002047)\n",
      "68. feature 139 (0.002046)\n",
      "69. feature 445 (0.001998)\n",
      "70. feature 206 (0.001993)\n",
      "71. feature 353 (0.001951)\n",
      "72. feature 359 (0.001895)\n",
      "73. feature 293 (0.001846)\n",
      "74. feature 409 (0.001846)\n",
      "75. feature 351 (0.001837)\n",
      "76. feature 330 (0.001809)\n",
      "77. feature 165 (0.001767)\n",
      "78. feature 349 (0.001758)\n",
      "79. feature 320 (0.001753)\n",
      "80. feature 146 (0.001699)\n",
      "81. feature 392 (0.001694)\n",
      "82. feature 162 (0.001687)\n",
      "83. feature 267 (0.001643)\n",
      "84. feature 148 (0.001640)\n",
      "85. feature 365 (0.001637)\n",
      "86. feature 187 (0.001628)\n",
      "87. feature 171 (0.001617)\n",
      "88. feature 390 (0.001615)\n",
      "89. feature 469 (0.001607)\n",
      "90. feature 327 (0.001603)\n",
      "91. feature 489 (0.001582)\n",
      "92. feature 375 (0.001570)\n",
      "93. feature 454 (0.001480)\n",
      "94. feature 204 (0.001462)\n",
      "95. feature 28 (0.001461)\n",
      "96. feature 229 (0.001457)\n",
      "97. feature 286 (0.001448)\n",
      "98. feature 461 (0.001440)\n",
      "99. feature 449 (0.001415)\n",
      "100. feature 242 (0.001413)\n",
      "101. feature 233 (0.001389)\n",
      "102. feature 490 (0.001367)\n",
      "103. feature 306 (0.001343)\n",
      "104. feature 292 (0.001334)\n",
      "105. feature 325 (0.001330)\n",
      "106. feature 345 (0.001309)\n",
      "107. feature 275 (0.001307)\n",
      "108. feature 340 (0.001288)\n",
      "109. feature 451 (0.001268)\n",
      "110. feature 342 (0.001256)\n",
      "111. feature 47 (0.001251)\n",
      "112. feature 22 (0.001243)\n",
      "113. feature 486 (0.001235)\n",
      "114. feature 396 (0.001234)\n",
      "115. feature 31 (0.001230)\n",
      "116. feature 355 (0.001224)\n",
      "117. feature 248 (0.001206)\n",
      "118. feature 376 (0.001186)\n",
      "119. feature 471 (0.001177)\n",
      "120. feature 455 (0.001169)\n",
      "121. feature 495 (0.001161)\n",
      "122. feature 483 (0.001161)\n",
      "123. feature 297 (0.001130)\n",
      "124. feature 85 (0.001119)\n",
      "125. feature 279 (0.001090)\n",
      "126. feature 158 (0.001081)\n",
      "127. feature 102 (0.001076)\n",
      "128. feature 484 (0.001067)\n",
      "129. feature 493 (0.001055)\n",
      "130. feature 150 (0.001045)\n",
      "131. feature 476 (0.001036)\n",
      "132. feature 333 (0.001029)\n",
      "133. feature 465 (0.001024)\n",
      "134. feature 246 (0.001009)\n",
      "135. feature 313 (0.001007)\n",
      "136. feature 405 (0.000997)\n",
      "137. feature 210 (0.000995)\n",
      "138. feature 289 (0.000993)\n",
      "139. feature 421 (0.000987)\n",
      "140. feature 214 (0.000982)\n",
      "141. feature 86 (0.000945)\n",
      "142. feature 198 (0.000935)\n",
      "143. feature 200 (0.000926)\n",
      "144. feature 331 (0.000922)\n",
      "145. feature 290 (0.000919)\n",
      "146. feature 243 (0.000916)\n",
      "147. feature 478 (0.000910)\n",
      "148. feature 263 (0.000905)\n",
      "149. feature 473 (0.000903)\n",
      "150. feature 140 (0.000881)\n",
      "151. feature 339 (0.000881)\n",
      "152. feature 121 (0.000875)\n",
      "153. feature 305 (0.000856)\n",
      "154. feature 107 (0.000847)\n",
      "155. feature 389 (0.000845)\n",
      "156. feature 271 (0.000828)\n",
      "157. feature 383 (0.000827)\n",
      "158. feature 260 (0.000800)\n",
      "159. feature 426 (0.000782)\n",
      "160. feature 402 (0.000776)\n",
      "161. feature 177 (0.000775)\n",
      "162. feature 430 (0.000773)\n",
      "163. feature 10 (0.000760)\n",
      "164. feature 232 (0.000752)\n",
      "165. feature 347 (0.000746)\n",
      "166. feature 231 (0.000744)\n",
      "167. feature 324 (0.000737)\n",
      "168. feature 59 (0.000734)\n",
      "169. feature 175 (0.000733)\n",
      "170. feature 498 (0.000732)\n",
      "171. feature 36 (0.000717)\n",
      "172. feature 440 (0.000710)\n",
      "173. feature 117 (0.000696)\n",
      "174. feature 116 (0.000695)\n",
      "175. feature 474 (0.000687)\n",
      "176. feature 416 (0.000684)\n",
      "177. feature 174 (0.000683)\n",
      "178. feature 410 (0.000679)\n",
      "179. feature 33 (0.000671)\n",
      "180. feature 386 (0.000625)\n",
      "181. feature 143 (0.000615)\n",
      "182. feature 216 (0.000610)\n",
      "183. feature 382 (0.000603)\n",
      "184. feature 256 (0.000602)\n",
      "185. feature 296 (0.000598)\n",
      "186. feature 166 (0.000597)\n",
      "187. feature 134 (0.000594)\n",
      "188. feature 101 (0.000587)\n",
      "189. feature 335 (0.000575)\n",
      "190. feature 399 (0.000568)\n",
      "191. feature 99 (0.000565)\n",
      "192. feature 245 (0.000563)\n",
      "193. feature 312 (0.000562)\n",
      "194. feature 173 (0.000555)\n",
      "195. feature 30 (0.000547)\n",
      "196. feature 24 (0.000546)\n",
      "197. feature 442 (0.000545)\n",
      "198. feature 8 (0.000543)\n",
      "199. feature 368 (0.000543)\n",
      "200. feature 247 (0.000542)\n",
      "201. feature 273 (0.000537)\n",
      "202. feature 50 (0.000535)\n",
      "203. feature 266 (0.000533)\n",
      "204. feature 96 (0.000533)\n",
      "205. feature 2 (0.000530)\n",
      "206. feature 343 (0.000526)\n",
      "207. feature 491 (0.000524)\n",
      "208. feature 52 (0.000512)\n",
      "209. feature 145 (0.000505)\n",
      "210. feature 205 (0.000498)\n",
      "211. feature 157 (0.000494)\n",
      "212. feature 19 (0.000487)\n",
      "213. feature 337 (0.000482)\n",
      "214. feature 244 (0.000482)\n",
      "215. feature 336 (0.000479)\n",
      "216. feature 284 (0.000479)\n",
      "217. feature 170 (0.000478)\n",
      "218. feature 123 (0.000466)\n",
      "219. feature 108 (0.000466)\n",
      "220. feature 25 (0.000464)\n",
      "221. feature 201 (0.000455)\n",
      "222. feature 237 (0.000450)\n",
      "223. feature 167 (0.000447)\n",
      "224. feature 366 (0.000430)\n",
      "225. feature 73 (0.000427)\n",
      "226. feature 326 (0.000426)\n",
      "227. feature 118 (0.000426)\n",
      "228. feature 35 (0.000423)\n",
      "229. feature 403 (0.000417)\n",
      "230. feature 393 (0.000416)\n",
      "231. feature 11 (0.000413)\n",
      "232. feature 38 (0.000409)\n",
      "233. feature 309 (0.000408)\n",
      "234. feature 77 (0.000406)\n",
      "235. feature 149 (0.000404)\n",
      "236. feature 226 (0.000400)\n",
      "237. feature 251 (0.000400)\n",
      "238. feature 379 (0.000396)\n",
      "239. feature 413 (0.000388)\n",
      "240. feature 6 (0.000382)\n",
      "241. feature 14 (0.000377)\n",
      "242. feature 441 (0.000372)\n",
      "243. feature 222 (0.000371)\n",
      "244. feature 481 (0.000370)\n",
      "245. feature 154 (0.000366)\n",
      "246. feature 274 (0.000363)\n",
      "247. feature 79 (0.000360)\n",
      "248. feature 438 (0.000357)\n",
      "249. feature 238 (0.000355)\n",
      "250. feature 310 (0.000352)\n",
      "251. feature 261 (0.000348)\n",
      "252. feature 104 (0.000342)\n",
      "253. feature 219 (0.000338)\n",
      "254. feature 254 (0.000337)\n",
      "255. feature 249 (0.000336)\n",
      "256. feature 3 (0.000332)\n",
      "257. feature 464 (0.000332)\n",
      "258. feature 356 (0.000327)\n",
      "259. feature 5 (0.000325)\n",
      "260. feature 492 (0.000325)\n",
      "261. feature 7 (0.000320)\n",
      "262. feature 193 (0.000320)\n",
      "263. feature 136 (0.000319)\n",
      "264. feature 46 (0.000318)\n",
      "265. feature 53 (0.000312)\n",
      "266. feature 436 (0.000309)\n",
      "267. feature 360 (0.000309)\n",
      "268. feature 291 (0.000306)\n",
      "269. feature 425 (0.000302)\n",
      "270. feature 186 (0.000301)\n",
      "271. feature 408 (0.000301)\n",
      "272. feature 69 (0.000300)\n",
      "273. feature 114 (0.000298)\n",
      "274. feature 391 (0.000296)\n",
      "275. feature 111 (0.000295)\n",
      "276. feature 37 (0.000293)\n",
      "277. feature 417 (0.000292)\n",
      "278. feature 44 (0.000292)\n",
      "279. feature 350 (0.000291)\n",
      "280. feature 62 (0.000291)\n",
      "281. feature 372 (0.000291)\n",
      "282. feature 381 (0.000287)\n",
      "283. feature 160 (0.000285)\n",
      "284. feature 1 (0.000282)\n",
      "285. feature 9 (0.000281)\n",
      "286. feature 26 (0.000276)\n",
      "287. feature 51 (0.000275)\n",
      "288. feature 370 (0.000275)\n",
      "289. feature 39 (0.000269)\n",
      "290. feature 63 (0.000269)\n",
      "291. feature 235 (0.000269)\n",
      "292. feature 98 (0.000268)\n",
      "293. feature 82 (0.000267)\n",
      "294. feature 133 (0.000267)\n",
      "295. feature 153 (0.000258)\n",
      "296. feature 418 (0.000258)\n",
      "297. feature 66 (0.000255)\n",
      "298. feature 45 (0.000253)\n",
      "299. feature 4 (0.000252)\n",
      "300. feature 224 (0.000250)\n",
      "301. feature 202 (0.000250)\n",
      "302. feature 432 (0.000248)\n",
      "303. feature 65 (0.000248)\n",
      "304. feature 453 (0.000245)\n",
      "305. feature 285 (0.000244)\n",
      "306. feature 135 (0.000243)\n",
      "307. feature 319 (0.000241)\n",
      "308. feature 255 (0.000240)\n",
      "309. feature 55 (0.000238)\n",
      "310. feature 61 (0.000237)\n",
      "311. feature 94 (0.000237)\n",
      "312. feature 49 (0.000234)\n",
      "313. feature 276 (0.000231)\n",
      "314. feature 398 (0.000229)\n",
      "315. feature 43 (0.000222)\n",
      "316. feature 281 (0.000221)\n",
      "317. feature 315 (0.000218)\n",
      "318. feature 268 (0.000214)\n",
      "319. feature 225 (0.000209)\n",
      "320. feature 110 (0.000208)\n",
      "321. feature 439 (0.000207)\n",
      "322. feature 397 (0.000206)\n",
      "323. feature 56 (0.000197)\n",
      "324. feature 299 (0.000196)\n",
      "325. feature 87 (0.000193)\n",
      "326. feature 15 (0.000192)\n",
      "327. feature 316 (0.000192)\n",
      "328. feature 93 (0.000190)\n",
      "329. feature 380 (0.000190)\n",
      "330. feature 71 (0.000189)\n",
      "331. feature 466 (0.000189)\n",
      "332. feature 259 (0.000184)\n",
      "333. feature 130 (0.000181)\n",
      "334. feature 334 (0.000180)\n",
      "335. feature 90 (0.000180)\n",
      "336. feature 58 (0.000178)\n",
      "337. feature 64 (0.000177)\n",
      "338. feature 435 (0.000176)\n",
      "339. feature 60 (0.000176)\n",
      "340. feature 298 (0.000175)\n",
      "341. feature 332 (0.000175)\n",
      "342. feature 208 (0.000174)\n",
      "343. feature 42 (0.000173)\n",
      "344. feature 100 (0.000172)\n",
      "345. feature 125 (0.000172)\n",
      "346. feature 411 (0.000171)\n",
      "347. feature 419 (0.000170)\n",
      "348. feature 75 (0.000169)\n",
      "349. feature 40 (0.000167)\n",
      "350. feature 427 (0.000166)\n",
      "351. feature 318 (0.000165)\n",
      "352. feature 311 (0.000164)\n",
      "353. feature 194 (0.000161)\n",
      "354. feature 138 (0.000159)\n",
      "355. feature 488 (0.000158)\n"
     ]
    },
    {
     "name": "stdout",
     "output_type": "stream",
     "text": [
      "356. feature 240 (0.000156)\n",
      "357. feature 181 (0.000154)\n",
      "358. feature 109 (0.000154)\n",
      "359. feature 129 (0.000151)\n",
      "360. feature 485 (0.000150)\n",
      "361. feature 132 (0.000150)\n",
      "362. feature 188 (0.000149)\n",
      "363. feature 497 (0.000148)\n",
      "364. feature 151 (0.000148)\n",
      "365. feature 472 (0.000144)\n",
      "366. feature 54 (0.000143)\n",
      "367. feature 18 (0.000141)\n",
      "368. feature 34 (0.000138)\n",
      "369. feature 119 (0.000138)\n",
      "370. feature 106 (0.000135)\n",
      "371. feature 223 (0.000132)\n",
      "372. feature 83 (0.000130)\n",
      "373. feature 487 (0.000129)\n",
      "374. feature 92 (0.000125)\n",
      "375. feature 388 (0.000122)\n",
      "376. feature 80 (0.000122)\n",
      "377. feature 68 (0.000120)\n",
      "378. feature 447 (0.000119)\n",
      "379. feature 458 (0.000118)\n",
      "380. feature 81 (0.000118)\n",
      "381. feature 227 (0.000118)\n",
      "382. feature 301 (0.000116)\n",
      "383. feature 12 (0.000116)\n",
      "384. feature 354 (0.000115)\n",
      "385. feature 105 (0.000115)\n",
      "386. feature 384 (0.000113)\n",
      "387. feature 270 (0.000111)\n",
      "388. feature 122 (0.000110)\n",
      "389. feature 448 (0.000108)\n",
      "390. feature 147 (0.000108)\n",
      "391. feature 406 (0.000106)\n",
      "392. feature 218 (0.000105)\n",
      "393. feature 88 (0.000105)\n",
      "394. feature 74 (0.000101)\n",
      "395. feature 103 (0.000101)\n",
      "396. feature 95 (0.000100)\n",
      "397. feature 322 (0.000099)\n",
      "398. feature 141 (0.000097)\n",
      "399. feature 97 (0.000096)\n",
      "400. feature 257 (0.000095)\n",
      "401. feature 401 (0.000093)\n",
      "402. feature 126 (0.000090)\n",
      "403. feature 179 (0.000086)\n",
      "404. feature 207 (0.000085)\n",
      "405. feature 252 (0.000084)\n",
      "406. feature 152 (0.000083)\n",
      "407. feature 163 (0.000083)\n",
      "408. feature 395 (0.000081)\n",
      "409. feature 304 (0.000080)\n",
      "410. feature 494 (0.000075)\n",
      "411. feature 180 (0.000074)\n",
      "412. feature 91 (0.000074)\n",
      "413. feature 155 (0.000071)\n",
      "414. feature 348 (0.000070)\n",
      "415. feature 70 (0.000067)\n",
      "416. feature 72 (0.000066)\n",
      "417. feature 373 (0.000065)\n",
      "418. feature 27 (0.000064)\n",
      "419. feature 422 (0.000061)\n",
      "420. feature 341 (0.000061)\n",
      "421. feature 394 (0.000060)\n",
      "422. feature 437 (0.000059)\n",
      "423. feature 48 (0.000059)\n",
      "424. feature 424 (0.000059)\n",
      "425. feature 120 (0.000058)\n",
      "426. feature 192 (0.000051)\n",
      "427. feature 213 (0.000050)\n",
      "428. feature 112 (0.000049)\n",
      "429. feature 17 (0.000049)\n",
      "430. feature 137 (0.000047)\n",
      "431. feature 197 (0.000042)\n",
      "432. feature 241 (0.000041)\n",
      "433. feature 41 (0.000039)\n",
      "434. feature 89 (0.000039)\n",
      "435. feature 496 (0.000038)\n",
      "436. feature 450 (0.000038)\n",
      "437. feature 283 (0.000038)\n",
      "438. feature 131 (0.000038)\n",
      "439. feature 124 (0.000038)\n",
      "440. feature 127 (0.000036)\n",
      "441. feature 161 (0.000036)\n",
      "442. feature 321 (0.000035)\n",
      "443. feature 57 (0.000035)\n",
      "444. feature 115 (0.000035)\n",
      "445. feature 16 (0.000034)\n",
      "446. feature 184 (0.000034)\n",
      "447. feature 377 (0.000030)\n",
      "448. feature 32 (0.000029)\n",
      "449. feature 463 (0.000026)\n",
      "450. feature 29 (0.000020)\n",
      "451. feature 239 (0.000020)\n",
      "452. feature 203 (0.000010)\n",
      "453. feature 113 (0.000007)\n",
      "454. feature 480 (0.000000)\n",
      "455. feature 212 (0.000000)\n",
      "456. feature 433 (0.000000)\n",
      "457. feature 300 (0.000000)\n",
      "458. feature 452 (0.000000)\n",
      "459. feature 479 (0.000000)\n",
      "460. feature 215 (0.000000)\n",
      "461. feature 431 (0.000000)\n",
      "462. feature 13 (0.000000)\n",
      "463. feature 23 (0.000000)\n",
      "464. feature 443 (0.000000)\n",
      "465. feature 21 (0.000000)\n",
      "466. feature 20 (0.000000)\n",
      "467. feature 477 (0.000000)\n",
      "468. feature 221 (0.000000)\n",
      "469. feature 387 (0.000000)\n",
      "470. feature 211 (0.000000)\n",
      "471. feature 67 (0.000000)\n",
      "472. feature 128 (0.000000)\n",
      "473. feature 462 (0.000000)\n",
      "474. feature 378 (0.000000)\n",
      "475. feature 374 (0.000000)\n",
      "476. feature 467 (0.000000)\n",
      "477. feature 156 (0.000000)\n",
      "478. feature 470 (0.000000)\n",
      "479. feature 357 (0.000000)\n",
      "480. feature 414 (0.000000)\n",
      "481. feature 78 (0.000000)\n",
      "482. feature 415 (0.000000)\n",
      "483. feature 76 (0.000000)\n",
      "484. feature 352 (0.000000)\n",
      "485. feature 168 (0.000000)\n",
      "486. feature 303 (0.000000)\n",
      "487. feature 344 (0.000000)\n",
      "488. feature 172 (0.000000)\n",
      "489. feature 338 (0.000000)\n",
      "490. feature 329 (0.000000)\n",
      "491. feature 182 (0.000000)\n",
      "492. feature 185 (0.000000)\n",
      "493. feature 459 (0.000000)\n",
      "494. feature 189 (0.000000)\n",
      "495. feature 190 (0.000000)\n",
      "496. feature 191 (0.000000)\n",
      "497. feature 196 (0.000000)\n",
      "498. feature 199 (0.000000)\n",
      "499. feature 307 (0.000000)\n",
      "500. feature 328 (0.000000)\n"
     ]
    },
    {
     "data": {
      "image/png": "[encoded data removed]",
      "text/plain": [
       "<matplotlib.figure.Figure at 0x116e4bba8>"
      ]
     },
     "metadata": {},
     "output_type": "display_data"
    }
   ],
   "source": [
    "clf = RandomForestClassifier() \n",
    "with sklearn.config_context(assume_finite=True):\n",
    "    model = clf.fit(X_train, y_train)\n",
    "\n",
    "    \n",
    "importances = clf.feature_importances_\n",
    "std = np.std([tree.feature_importances_ for tree in clf.estimators_],\n",
    "             axis=0)\n",
    "indices = np.argsort(importances)[::-1]\n",
    "\n",
    "# Print the feature ranking\n",
    "print(\"Feature ranking:\")\n",
    "\n",
    "for f in range(X.shape[1]):\n",
    "    print(\"%d. feature %d (%f)\" % (f + 1, indices[f], importances[indices[f]]))\n",
    "\n",
    "# Plot the feature importances of the forest\n",
    "plt.figure()\n",
    "plt.title(\"Feature importances\")\n",
    "plt.bar(range(X.shape[1]), importances[indices],\n",
    "       color=\"r\", yerr=std[indices], align=\"center\")\n",
    "plt.xticks(range(X.shape[1]), indices)\n",
    "plt.xlim([-1, X.shape[1]])\n",
    "plt.show()"
   ]
  },
  {
   "cell_type": "code",
   "execution_count": 61,
   "metadata": {},
   "outputs": [
    {
     "data": {
      "text/plain": [
       "'belief'"
      ]
     },
     "execution_count": 61,
     "metadata": {},
     "output_type": "execute_result"
    }
   ],
   "source": [
    "labels[178]"
   ]
  },
  {
   "cell_type": "code",
   "execution_count": null,
   "metadata": {},
   "outputs": [],
   "source": []
  }
 ],
 "metadata": {
  "kernelspec": {
   "display_name": "Python 3",
   "language": "python",
   "name": "python3"
  },
  "language_info": {
   "codemirror_mode": {
    "name": "ipython",
    "version": 3
   },
   "file_extension": ".py",
   "mimetype": "text/x-python",
   "name": "python",
   "nbconvert_exporter": "python",
   "pygments_lexer": "ipython3",
   "version": "3.6.1"
  }
 },
 "nbformat": 4,
 "nbformat_minor": 2
}
