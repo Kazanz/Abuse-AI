{
 "cells": [
  {
   "cell_type": "markdown",
   "metadata": {},
   "source": [
    "# Clean data for bag of words"
   ]
  },
  {
   "cell_type": "code",
   "execution_count": 118,
   "metadata": {},
   "outputs": [],
   "source": [
    "import csv\n",
    "import json\n",
    "import string\n",
    "import re\n",
    "from collections import Counter\n",
    "from functools import reduce\n",
    "\n",
    "from IPython.display import clear_output\n",
    "import matplotlib.pyplot as plt\n",
    "import numpy as np\n",
    "import pandas as pd\n",
    "import sklearn\n",
    "from pandas_ml import ConfusionMatrix\n",
    "from sklearn.calibration import CalibratedClassifierCV\n",
    "from sklearn.model_selection import train_test_split\n",
    "from sklearn.feature_selection import VarianceThreshold\n",
    "from sklearn.feature_extraction.text import CountVectorizer\n",
    "from sklearn.feature_extraction import stop_words\n",
    "from sklearn.metrics import confusion_matrix\n",
    "from sklearn.metrics import accuracy_score as acc\n",
    "from sklearn.ensemble import  RandomForestClassifier\n",
    "from imblearn.over_sampling import RandomOverSampler\n",
    "from imblearn.under_sampling import NearMiss\n",
    "from imblearn.under_sampling import RandomUnderSampler\n",
    "\n",
    "%matplotlib inline"
   ]
  },
  {
   "cell_type": "raw",
   "metadata": {},
   "source": [
    "[redacted]"
   ]
  },
  {
   "cell_type": "code",
   "execution_count": 121,
   "metadata": {},
   "outputs": [],
   "source": [
    "[redacted]"
   ]
  },
  {
   "cell_type": "markdown",
   "metadata": {},
   "source": [
    "# Over sampling"
   ]
  },
  {
   "cell_type": "code",
   "execution_count": 122,
   "metadata": {},
   "outputs": [],
   "source": [
    "raw_data = get_raw_data()[-1000:]\n",
    "X = []\n",
    "y = []\n",
    "subjects = []\n",
    "for i in raw_data:\n",
    "    X.append(i['body'].lower())\n",
    "    y.append(i['type'])\n",
    "    subjects.append(i['subject'])\n",
    "del raw_data"
   ]
  },
  {
   "cell_type": "code",
   "execution_count": 123,
   "metadata": {},
   "outputs": [],
   "source": [
    "stopwords = list(map(str, range(0, 90000))) + ['000', '0000', '00', '01', '02', '03', '04', '05', '06', '07', '08', '09']\n",
    "stopwords += list(stop_words.ENGLISH_STOP_WORDS)\n",
    "stopwords += ['monday', 'tuesday', 'wednesday', 'thursday', 'friday', 'saturday', 'sunday', 'mon', 'tue', 'th', 'fri', 'sat', 'sun']\n",
    "stopwords += ['january', 'february', 'march', 'april', 'may', 'june', 'july', 'august', 'september', 'october', 'november', 'december']\n",
    "stopwords += ['jan', 'feb', 'mar', 'apr', 'may', 'jun', 'jul', 'aug', 'sep', 'oct', 'nov', 'dec']\n",
    "stopwords += ['3d', 'usa', 'ghanagrio', 'br', 'com', 'dailymail', 'gt', 'hello', 'bradesco', 'uk', 'http', 'https', 'onlinenigeria']                                                           \n",
    "stopwords = frozenset(stopwords)\n",
    " \n",
    "vectorizer = CountVectorizer(max_features=75, ngram_range=(1,1), analyzer=\"word\", stop_words=stopwords)\n",
    "X = vectorizer.fit_transform(X)\n",
    "labels = vectorizer.get_feature_names()\n",
    "X = X.toarray()"
   ]
  },
  {
   "cell_type": "code",
   "execution_count": 124,
   "metadata": {
    "scrolled": false
   },
   "outputs": [
    {
     "name": "stdout",
     "output_type": "stream",
     "text": [
      "dict_items([('Malicious Content', 504), ('Malicious Activity', 504), ('Trademark Infringement', 504)])\n"
     ]
    },
    {
     "data": {
      "text/plain": [
       "Counter({'Malicious Activity': 288,\n",
       "         'Malicious Content': 318,\n",
       "         'Trademark Infringement': 301})"
      ]
     },
     "execution_count": 124,
     "metadata": {},
     "output_type": "execute_result"
    }
   ],
   "source": [
    "rus = RandomOverSampler(random_state=0)\n",
    "X_resampled, y_resampled = rus.fit_sample(X, y)\n",
    "\n",
    "from collections import Counter\n",
    "print(Counter(y_resampled).items())\n",
    "    \n",
    "X_train, X_test, y_train, y_test = train_test_split(X_resampled, y_resampled, test_size=.4, random_state=0)\n",
    "\n",
    "Counter(y_train)"
   ]
  },
  {
   "cell_type": "code",
   "execution_count": 125,
   "metadata": {},
   "outputs": [
    {
     "name": "stdout",
     "output_type": "stream",
     "text": [
      "OrderedDict([('Accuracy', 0.98016528925619839), ('95% CI', (0.96560927485143655, 0.98971014236987787)), ('No Information Rate', 'ToDo'), ('P-Value [Acc > NIR]', 1.9168058382582663e-242), ('Kappa', 0.97018896745423644), (\"Mcnemar's Test P-Value\", 'ToDo')])\n",
      "Predicted               Malicious Activity  Malicious Content  \\\n",
      "Actual                                                          \n",
      "Malicious Activity                     211                  4   \n",
      "Malicious Content                        6                180   \n",
      "Trademark Infringement                   0                  1   \n",
      "__all__                                217                185   \n",
      "\n",
      "Predicted               Trademark Infringement  __all__  \n",
      "Actual                                                   \n",
      "Malicious Activity                           1      216  \n",
      "Malicious Content                            0      186  \n",
      "Trademark Infringement                     202      203  \n",
      "__all__                                    203      605  \n"
     ]
    },
    {
     "data": {
      "image/png": "[encoded data removed]",
      "text/plain": [
       "<matplotlib.figure.Figure at 0x1107d0a90>"
      ]
     },
     "metadata": {},
     "output_type": "display_data"
    }
   ],
   "source": [
    "forest = RandomForestClassifier() \n",
    "clf = CalibratedClassifierCV(forest)\n",
    "with sklearn.config_context(assume_finite=True):\n",
    "    model = clf.fit(X_train, y_train)\n",
    "    y_pred = model.predict(X_test)\n",
    " \n",
    "print(ConfusionMatrix(y_test, y_pred).stats_overall)\n",
    "ConfusionMatrix(y_test, y_pred).plot()\n",
    "print(ConfusionMatrix(y_test, y_pred))\n"
   ]
  },
  {
   "cell_type": "code",
   "execution_count": 126,
   "metadata": {},
   "outputs": [],
   "source": [
    "import pickle\n",
    "with open('model.pickle', 'wb') as f:\n",
    "    pickle.dump((vectorizer, model), f)"
   ]
  },
  {
   "cell_type": "code",
   "execution_count": 130,
   "metadata": {},
   "outputs": [
    {
     "data": {
      "text/plain": [
       "\"\\r\\n\\r\\nThis information has been generated out of our comprehensive real time database, tracking worldwide phishing URI's\\r\\n\\r\\nIf your review this list of offending site(s), please do this carefully, pay attention for redirects also!\\r\\nAlso, please consider this particular machines may have a root kit installed !\\r\\nSo simply deleting some files or dirs or disabling cgi may not really solve the issue !\\r\\n\\r\\nAdvice: The appearance of a Virus Site on a server means that someone intruded into the system. The server's owner should disconnect and not return the system into service until an audit is performed to ensure no data was lost, that all OS and internet software is up to date with the latest security fixes, and that any backdoors and other exploits left by the intruders are closed. Logs should be preserved and analyzed and, perhaps, the appropriate law enforcement agencies notified.\\r\\n\\r\\nDO NOT JUST DELETE THE FILES. IF YOU DO NOT FIX THE SECURITY PROBLEM, THEY WILL BE BACK!\\r\\n\\r\\nYou may forward my information to law enforcement, CERTs, other responsible admins, or similar agencies.\\r\\n\\r\\n+-----------------------------------------------------------------------\\r\\n+------------------------\\r\\n\\r\\n|date\\t\\t\\t\\t|id\\t|Target\\t|ip\\t\\t|domain\\t\\t|Url|\\r\\n+-----------------------------------------------------------------------\\r\\n+------------------------\\r\\n|2016-05-27 23:47:11 CEST\\t|8013804\\t|\\t|104.156.58.162\\t|yourhappydeals.com\\t|http://www.yourhappydeals.com/db222/db222\\r\\n+-----------------------------------------------------------------------\\r\\n+------------------------\\r\\n\\r\\n\""
      ]
     },
     "execution_count": 130,
     "metadata": {},
     "output_type": "execute_result"
    }
   ],
   "source": [
    "get_raw_data()[-1023]['body']"
   ]
  }
 ],
 "metadata": {
  "kernelspec": {
   "display_name": "Python 3",
   "language": "python",
   "name": "python3"
  },
  "language_info": {
   "codemirror_mode": {
    "name": "ipython",
    "version": 3
   },
   "file_extension": ".py",
   "mimetype": "text/x-python",
   "name": "python",
   "nbconvert_exporter": "python",
   "pygments_lexer": "ipython3",
   "version": "3.6.1"
  }
 },
 "nbformat": 4,
 "nbformat_minor": 2
}
